{
  "nbformat": 4,
  "nbformat_minor": 0,
  "metadata": {
    "colab": {
      "name": "Untitled",
      "provenance": [],
      "collapsed_sections": []
    },
    "kernelspec": {
      "name": "python3",
      "display_name": "Python 3"
    }
  },
  "cells": [
    {
      "cell_type": "markdown",
      "metadata": {
        "id": "FvxvqMZmeDwa"
      },
      "source": [
        "Programa 1"
      ]
    },
    {
      "cell_type": "code",
      "metadata": {
        "id": "mLZZ7Zq5b4oR",
        "outputId": "e5ab6a16-1d66-4e27-803d-38c850290935",
        "colab": {
          "base_uri": "https://localhost:8080/"
        }
      },
      "source": [
        "\n",
        "x=int(input(\"Teclea el numerpo que desees:\"))\n",
        "y = x % 2\n",
        "if y == 0:\n",
        "  print(\"# par\")\n",
        "else:\n",
        "  print(\"# impar\")\n",
        "\n",
        "print(\"Fin\")"
      ],
      "execution_count": 1,
      "outputs": [
        {
          "output_type": "stream",
          "text": [
            "Teclea el numerpo que desees:5\n",
            "# impar\n",
            "Fin\n"
          ],
          "name": "stdout"
        }
      ]
    },
    {
      "cell_type": "markdown",
      "metadata": {
        "id": "ZRQGSFpKgoIN"
      },
      "source": [
        "Programa 2\n"
      ]
    },
    {
      "cell_type": "code",
      "metadata": {
        "id": "ynZBRrNngrjK",
        "outputId": "033e8157-920e-43e8-b40d-f168a8f49747",
        "colab": {
          "base_uri": "https://localhost:8080/"
        }
      },
      "source": [
        "\n",
        "chain=str (input(\"Introduzca un texto: \"))\n",
        "rep=int (input(\"¿Cuantas veces deseas repetirlo?: \"))\n",
        "\n",
        "for i in range(0,rep):\n",
        "  print(chain)"
      ],
      "execution_count": 2,
      "outputs": [
        {
          "output_type": "stream",
          "text": [
            "Introduzca un texto: i <3 ipn\n",
            "¿Cuantas veces deseas repetirlo?: 4\n",
            "i <3 ipn\n",
            "i <3 ipn\n",
            "i <3 ipn\n",
            "i <3 ipn\n"
          ],
          "name": "stdout"
        }
      ]
    },
    {
      "cell_type": "markdown",
      "metadata": {
        "id": "g11EfUBpjCXI"
      },
      "source": [
        "Programa 3"
      ]
    },
    {
      "cell_type": "code",
      "metadata": {
        "id": "i8bnjWMtk7KI",
        "outputId": "e4b75c4e-0ad5-4052-8373-d69170bf389b",
        "colab": {
          "base_uri": "https://localhost:8080/"
        }
      },
      "source": [
        "\n",
        "print(\"Programa para calcular tu ingreso dependiendo del tiempo que trabajaste\")\n",
        "a=150\n",
        "tiempo=int(input(\"Horas laboradas: \"))\n",
        "b=tiempo*a\n",
        "print(\"Sueldo Total:\",b,\"pesos\")\n",
        "print(\"Por laborar 5 días:\", b*5, \"pesos\")\n",
        "print(\"Por laborar 20 días:\", b*20, \"pesos\")"
      ],
      "execution_count": 4,
      "outputs": [
        {
          "output_type": "stream",
          "text": [
            "Programa para calcular tu ingreso dependiendo del tiempo que trabajaste\n",
            "Horas laboradas: 8\n",
            "Sueldo Total: 1200 pesos\n",
            "Por laborar 5 días: 6000 pesos\n",
            "Por laborar 20 días: 24000 pesos\n"
          ],
          "name": "stdout"
        }
      ]
    },
    {
      "cell_type": "markdown",
      "metadata": {
        "id": "FL_jMZRAl1OO"
      },
      "source": [
        "Programa 4\n"
      ]
    },
    {
      "cell_type": "code",
      "metadata": {
        "id": "_NiPYoS_l3UW",
        "outputId": "6f49725d-26bf-4bba-a427-806ba2d98e59",
        "colab": {
          "base_uri": "https://localhost:8080/"
        }
      },
      "source": [
        "x = input(\"Operación:  a.+   b.-   c.*    d.7/ \")\n",
        "if x != \"d\":\n",
        "  h = float (input(\"Número 1: \"))\n",
        "  i = float (input(\"Número 2: \"))\n",
        "if x == \"d\":\n",
        "  j = float (input(\"Número 1: \"))\n",
        "  k = float (input(\"Número 2: \"))\n",
        "  if k == 0: \n",
        "      print(\"El numero 0 no es valido\")\n",
        "      while k == 0:\n",
        "        k = float (input(\"Número 2: \"))\n",
        "        if k ==0:\n",
        "          print(\"El numero 0 no es valido\")\n",
        "if x == \"a\":\n",
        "  print(\"Resultado: \",h+i)\n",
        "if x == \"b\":\n",
        "  print(\"Resultado: \",h-i)\n",
        "if x == \"c\":\n",
        "  print(\"Resultado: \",h*i)\n",
        "if x == \"d\":\n",
        "  print(\"Resultado: \",j/k)"
      ],
      "execution_count": 9,
      "outputs": [
        {
          "output_type": "stream",
          "text": [
            "Operación:  a.+   b.-   c.*    d.7/ c\n",
            "Número 1: 4\n",
            "Número 2: 6\n",
            "Resultado:  24.0\n"
          ],
          "name": "stdout"
        }
      ]
    },
    {
      "cell_type": "markdown",
      "metadata": {
        "id": "bVqn75JmoRnD"
      },
      "source": [
        "Programa 5"
      ]
    },
    {
      "cell_type": "code",
      "metadata": {
        "id": "o-fI3Jy-oUIL",
        "outputId": "bbdadc60-378f-4289-be47-061d4cf01009",
        "colab": {
          "base_uri": "https://localhost:8080/"
        }
      },
      "source": [
        "print(\"Registro de pedidos de payasos y juegos de mesa de maximo 10 kg\")\n",
        "def peso(val1,val2):\n",
        " if c > 10000:\n",
        "   return [c,False]\n",
        " else: \n",
        "   return [c,True]\n",
        "a=int (input(\"Payasos: \"))*150\n",
        "b=int (input(\"Mesa: \"))*170\n",
        "c=a+b\n",
        "res,status=peso(a,b)\n",
        "\n",
        "if (status):\n",
        "  print(\"Aceptado, la orden pesa: \",c, \"gramos\")\n",
        "else: \n",
        "  print(\"Rechazado, el pedido rebasa los 10 kg por:\",c-10000,\"gramos\")"
      ],
      "execution_count": 14,
      "outputs": [
        {
          "output_type": "stream",
          "text": [
            "Registro de pedidos de payasos y juegos de mesa de maximo 10 kg\n",
            "Payasos: 6\n",
            "Mesa: 7\n",
            "Aceptado, la orden pesa:  2090 gramos\n"
          ],
          "name": "stdout"
        }
      ]
    },
    {
      "cell_type": "markdown",
      "metadata": {
        "id": "W56HYtXnqo4_"
      },
      "source": [
        "Programa 6"
      ]
    },
    {
      "cell_type": "code",
      "metadata": {
        "id": "RBzZomUrqqnT",
        "outputId": "8dc85828-898a-4f18-a114-b8c95b688ae0",
        "colab": {
          "base_uri": "https://localhost:8080/"
        }
      },
      "source": [
        "print(\"En base a tu ingreso, calcularemos tu descuento de impuesto\")\n",
        "x = int(input(\"Ingreso total: \"))\n",
        "if x < 10000:\n",
        "  print(\"Menos de 10000. Descuento de 5%, Total:\",(x)-(x*.05), \"pesos\")\n",
        "\n",
        "if 10000 < x < 15000:\n",
        "  print(\"10000 a 15000. Descuento de 10%, Total:\",(x)-(x*.10), \"pesos\")\n",
        "\n",
        "if 15000 < x < 20000:\n",
        "  print(\"15000 a 20000. Descuento de 15%, Total:\",(x)-(x*.15), \"pesos\")\n",
        "\n",
        "if x > 20000:\n",
        "  print(\"Mayor a 20000. Descuento de 20%, Total:\",(x)-(x*.20), \"pesos\")"
      ],
      "execution_count": 15,
      "outputs": [
        {
          "output_type": "stream",
          "text": [
            "En base a tu ingreso, calcularemos tu descuento de impuesto\n",
            "Ingreso total: 8000\n",
            "Menos de 10000. Descuento de 5%, Total: 7600.0 pesos\n"
          ],
          "name": "stdout"
        }
      ]
    },
    {
      "cell_type": "markdown",
      "metadata": {
        "id": "lSJf2YBjsfyX"
      },
      "source": [
        "Programa 7"
      ]
    },
    {
      "cell_type": "code",
      "metadata": {
        "id": "bKyN0T0QskLN",
        "outputId": "63b8f4bc-8850-46a4-a0f2-0aa67552153f",
        "colab": {
          "base_uri": "https://localhost:8080/"
        }
      },
      "source": [
        "def museo(años,cred):\n",
        " if (4<=años<=16):\n",
        "  if (cred==1):\n",
        "   p_años50_1=50-(50*0.1)\n",
        "   return p_años50_1\n",
        "  if (cred==2):\n",
        "   p_años50_2=50-(50*0.3)\n",
        "   return p_años50_2\n",
        "  if (cred==3):\n",
        "   p_años50_3=50-(50*0.5)\n",
        "   return p_años50_3\n",
        " elif (16<años):\n",
        "  if (cred==1):\n",
        "   p_años100_1=100(100*0.1)\n",
        "   return p_años100_1\n",
        "  if (cred==2):\n",
        "   p_años100_2=100-(100*0.3)\n",
        "   return p_años100_2\n",
        "  if (cred==3):\n",
        "   p_años100_3=100-(100*0.5)\n",
        "   return p_años100_3\n",
        "\n",
        "años=int (input(\"Edad: \"))\n",
        "if (0<años<4):\n",
        "  print(\"Gratis\")\n",
        "else:\n",
        "  cred=int (input(\"Credenciales :\\n\" \"1.Estudiante con credencial 2.Docente con credencial 3.INAPAM: \")) \n",
        "  print(\"Costo de la entrada:\",museo(años,cred),'pesos')"
      ],
      "execution_count": 22,
      "outputs": [
        {
          "output_type": "stream",
          "text": [
            "Edad: 67\n",
            "Credenciales :\n",
            "1.Estudiante con credencial 2.Docente con credencial 3.INAPAM: 3\n",
            "Costo de la entrada: 50.0 pesos\n"
          ],
          "name": "stdout"
        }
      ]
    },
    {
      "cell_type": "markdown",
      "metadata": {
        "id": "o6DG0fZJwVMA"
      },
      "source": [
        "Programa 8"
      ]
    },
    {
      "cell_type": "code",
      "metadata": {
        "id": "GXY516DPwZzv",
        "outputId": "cf70778b-9ece-4d33-a520-165cf8b858cb",
        "colab": {
          "base_uri": "https://localhost:8080/"
        }
      },
      "source": [
        "print(\"Triangulo con asteriscos\")\n",
        "a=int(input(\"# : \"))\n",
        "for i in range (a+1):\n",
        "    print(\"*\"*i)"
      ],
      "execution_count": 24,
      "outputs": [
        {
          "output_type": "stream",
          "text": [
            "Triangulo con asteriscos\n",
            "# : 7\n",
            "\n",
            "*\n",
            "**\n",
            "***\n",
            "****\n",
            "*****\n",
            "******\n",
            "*******\n"
          ],
          "name": "stdout"
        }
      ]
    },
    {
      "cell_type": "markdown",
      "metadata": {
        "id": "fV17TYAAx6TJ"
      },
      "source": [
        "Programa 9"
      ]
    },
    {
      "cell_type": "code",
      "metadata": {
        "id": "J7adc10Lx8Pp",
        "outputId": "a92af982-06ae-47a1-c59d-d8129d7ea6fc",
        "colab": {
          "base_uri": "https://localhost:8080/"
        }
      },
      "source": [
        "x= int(input(\"Ingresa un # positivo:\"))\n",
        "factorial = 1\n",
        "\n",
        "for i in range (x):\n",
        "  factorial= factorial*x\n",
        "  x = x-1\n",
        "\n",
        "print (\"Su factorial es:\",factorial)"
      ],
      "execution_count": 23,
      "outputs": [
        {
          "output_type": "stream",
          "text": [
            "Ingresa un # positivo:5\n",
            "Su factorial es: 120\n"
          ],
          "name": "stdout"
        }
      ]
    },
    {
      "cell_type": "markdown",
      "metadata": {
        "id": "rYOwZ-gWzZbb"
      },
      "source": [
        "Programa 10"
      ]
    },
    {
      "cell_type": "code",
      "metadata": {
        "id": "GqqWACtizbiQ",
        "outputId": "3b8bbfff-b7ee-4401-a48b-bb2612924003",
        "colab": {
          "base_uri": "https://localhost:8080/"
        }
      },
      "source": [
        "radio= float(input(\"radio:\"))\n",
        "a= 3.1416*(radio*radio)\n",
        "print(\"area:\",a)\n",
        "h= float(input(\"altura del cilindro:\"))\n",
        "v= a*h\n",
        "print(\"volumen del cilindro:\",v)"
      ],
      "execution_count": 29,
      "outputs": [
        {
          "output_type": "stream",
          "text": [
            "radio:3\n",
            "area: 28.2744\n",
            "altura del cilindro:2\n",
            "volumen del cilindro: 56.5488\n"
          ],
          "name": "stdout"
        }
      ]
    }
  ]
}